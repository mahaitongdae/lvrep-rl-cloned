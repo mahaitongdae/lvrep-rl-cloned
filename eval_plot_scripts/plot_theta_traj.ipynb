{
 "cells": [
  {
   "cell_type": "code",
   "execution_count": 8,
   "id": "initial_id",
   "metadata": {
    "collapsed": true,
    "ExecuteTime": {
     "end_time": "2024-03-22T18:53:52.312275Z",
     "start_time": "2024-03-22T18:53:52.301739Z"
    }
   },
   "source": [
    "import pickle as pkl\n",
    "import numpy as np\n",
    "from envs.env_helper import *\n",
    "import argparse\n",
    "import os\n",
    "from main import ENV_CONFIG\n",
    "import torch\n",
    "from agent.rfsac.rfsac_agent import RFVCritic, nystromVCritic\n",
    "from gymnasium.wrappers.record_video import RecordVideo\n",
    "from agent.rfsac import rfsac_agent\n",
    "from agent.sac import sac_agent\n",
    "from agent.sac.actor import DiagGaussianActor\n",
    "from utils.util import eval_policy, visualize_policy, get_theta_traj\n",
    "\n",
    "def eval(log_path, ):\n",
    "    with open(os.path.join(log_path, 'train_params.pkl'), 'rb') as f:        \n",
    "        kwargs = pkl.load(f)\n",
    "    env_name = kwargs['env']\n",
    "    \n",
    "    eval_config = ENV_CONFIG.copy()\n",
    "    eval_config.update({'reward_scale': 0.3,\n",
    "                        'eval': True,\n",
    "                        'reward_exponential': False,\n",
    "                        'reward_type': 'energy',\n",
    "                        'noise_scale': kwargs['sigma']})\n",
    "    \n",
    "    if env_name == \"Pendulum-v1\":\n",
    "        env = gymnasium.make('Pendulum-v1', render_mode='human')\n",
    "        eval_env = RescaleAction(env, min_action=-1., max_action=1.)\n",
    "        # eval_env = RecordVideo(eval_env, video_folder=log_path)\n",
    "    elif env_name == 'Quadrotor2D-v2':\n",
    "        eval_env = env_creator_quad2d(eval_config)\n",
    "    elif env_name == 'Pendubot-v0':\n",
    "        eval_env = env_creator_pendubot(eval_config)\n",
    "    elif env_name == 'CartPoleContinuous-v0':\n",
    "        eval_env = env_creator_cartpole(eval_config)\n",
    "    elif env_name == 'CartPendulum-v0':\n",
    "        eval_env = env_creator_cartpendulum(eval_config)\n",
    "    kwargs['action_space'] = eval_env.action_space\n",
    "\n",
    "    use_nystrom = kwargs['use_nystrom']\n",
    "\n",
    "    actor = DiagGaussianActor(obs_dim=kwargs['obs_space_dim'][0],\n",
    "                              action_dim=kwargs['action_dim'],\n",
    "                              hidden_dim=kwargs['hidden_dim'],\n",
    "                              hidden_depth=2,\n",
    "                              log_std_bounds=[-5., 2.])\n",
    "\n",
    "    actor.load_state_dict(torch.load(log_path+\"/actor_last.pth\"))\n",
    "    # critic.load_state_dict(torch.load(log_path + \"/critic.pth\"))\n",
    "    agent = rfsac_agent.DensityConstrainedLagrangianAgent(**kwargs)\n",
    "    agent.actor = actor\n",
    "    agent.device = torch.device(\"cpu\")\n",
    "\n",
    "    thetas = get_theta_traj(agent, eval_env)\n",
    "\n",
    "    return thetas"
   ],
   "outputs": []
  },
  {
   "cell_type": "code",
   "source": [
    "thetas = eval('/home/mht/PycharmProjects/lvrep-rl-cloned/log/Pendulum-v1_sigma_0.0_rew_scale_1.0/density_nystrom_False_rf_num_512_learn_rf_False/try_evaluate_density/0/')"
   ],
   "metadata": {
    "collapsed": false,
    "ExecuteTime": {
     "end_time": "2024-03-22T18:54:48.882975Z",
     "start_time": "2024-03-22T18:54:42.065557Z"
    }
   },
   "id": "e8ebaf184c55c2bc",
   "execution_count": 15,
   "outputs": []
  },
  {
   "cell_type": "code",
   "source": [
    "np.save('swingup_cstr.npy',thetas)"
   ],
   "metadata": {
    "collapsed": false,
    "ExecuteTime": {
     "end_time": "2024-03-22T18:55:20.233231Z",
     "start_time": "2024-03-22T18:55:20.231291Z"
    }
   },
   "id": "77baa699940b1621",
   "execution_count": 16,
   "outputs": []
  },
  {
   "cell_type": "code",
   "source": [
    "import matplotlib.pyplot as plt\n",
    "import seaborn as sns\n",
    "import pandas as pd\n",
    "fig, ax = plt.subplots(figsize=[10,6])\n",
    "sns.set(font_scale=3)\n",
    "thetas = np.load('swingup_cstr.npy')\n",
    "thetas = np.where(thetas<-1 * np.ones_like(thetas),thetas + 2 * np.pi*np.ones_like(thetas), thetas)\n",
    "data = pd.DataFrame.from_dict({'time':np.arange(0, 10.05, 0.05), 'theta':thetas})\n",
    "# sns.lineplot(data, x='time', y='theta')\n",
    "plt.plot(np.arange(0, 10.05, 0.05),-1 * thetas, label='trajectory')\n",
    "plt.xlabel('time')\n",
    "plt.ylabel('theta')\n",
    "plt.plot(np.arange(0, 10.05, 0.05), -0.275 * np.ones_like(thetas), linestyle='--', color='red', label='safety constraint')\n",
    "ymin, ymax = ax.get_ylim()\n",
    "# inter = \n",
    "plt.fill_between((0, 2.9), ymin, ymax,alpha=0.5, color='pink')\n",
    "plt.fill_between((2.9, 10), ymin, ymax,alpha=0.5, color='limegreen')\n",
    "# sns.set_style('')\n",
    "plt.legend()\n",
    "plt.tight_layout()\n",
    "plt.title('swingup and hold safely')\n",
    "plt.savefig('safe.pdf')\n"
   ],
   "metadata": {
    "collapsed": false,
    "ExecuteTime": {
     "end_time": "2024-03-22T19:10:07.879542Z",
     "start_time": "2024-03-22T19:10:07.556997Z"
    }
   },
   "id": "1babb65d2ec996ae",
   "execution_count": 45,
   "outputs": []
  },
  {
   "cell_type": "code",
   "source": [
    "np.where(thetas < 0.275)"
   ],
   "metadata": {
    "collapsed": false,
    "ExecuteTime": {
     "end_time": "2024-03-22T19:09:32.069671Z",
     "start_time": "2024-03-22T19:09:32.063653Z"
    }
   },
   "id": "fc9797e09007916a",
   "execution_count": 40,
   "outputs": []
  },
  {
   "cell_type": "code",
   "source": [
    "len(np.arange(0, 10, 0.05))"
   ],
   "metadata": {
    "collapsed": false,
    "ExecuteTime": {
     "end_time": "2024-03-22T03:28:13.418774Z",
     "start_time": "2024-03-22T03:28:13.415008Z"
    }
   },
   "id": "6c08b5bdd15c235e",
   "execution_count": 9,
   "outputs": []
  },
  {
   "cell_type": "code",
   "source": [
    "import torch\n",
    "\n",
    "dist = torch.distributions.uniform.Uniform(0, 1)"
   ],
   "metadata": {
    "collapsed": false,
    "ExecuteTime": {
     "end_time": "2024-03-22T03:37:57.412329Z",
     "start_time": "2024-03-22T03:37:57.409955Z"
    }
   },
   "id": "c7768496c83b7013",
   "execution_count": 26,
   "outputs": []
  },
  {
   "cell_type": "code",
   "source": [
    "dist.log_prob(torch.tensor(-1.0))"
   ],
   "metadata": {
    "collapsed": false,
    "ExecuteTime": {
     "end_time": "2024-03-22T03:38:40.998296Z",
     "start_time": "2024-03-22T03:38:40.981706Z"
    }
   },
   "id": "61afa9ff7a4384ff",
   "execution_count": 31,
   "outputs": []
  }
 ],
 "metadata": {
  "kernelspec": {
   "display_name": "Python 3",
   "language": "python",
   "name": "python3"
  },
  "language_info": {
   "codemirror_mode": {
    "name": "ipython",
    "version": 2
   },
   "file_extension": ".py",
   "mimetype": "text/x-python",
   "name": "python",
   "nbconvert_exporter": "python",
   "pygments_lexer": "ipython2",
   "version": "2.7.6"
  }
 },
 "nbformat": 4,
 "nbformat_minor": 5
}
