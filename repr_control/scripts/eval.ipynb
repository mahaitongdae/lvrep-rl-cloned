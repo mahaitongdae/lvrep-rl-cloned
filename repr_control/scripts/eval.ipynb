{
 "cells": [
  {
   "cell_type": "code",
   "execution_count": null,
   "metadata": {},
   "outputs": [],
   "source": [
    "import pickle as pkl\n",
    "import os\n",
    "import argparse\n",
    "from repr_control.agent.rfsac import rfsac_agent\n",
    "from repr_control.agent.sac import sac_agent\n",
    "from repr_control.agent.actor import DiagGaussianActor, DeterministicActor\n",
    "from repr_control.utils.util import eval_policy\n",
    "from repr_control.define_problem import *\n",
    "import gymnasium\n",
    "from gymnasium.envs.registration import register\n",
    "import yaml"
   ]
  },
  {
   "cell_type": "code",
   "execution_count": null,
   "metadata": {},
   "outputs": [],
   "source": [
    "def eval_mbdpg_agent(log_path):\n",
    "    try:\n",
    "        with open(os.path.join(log_path, 'train_params.pkl'), 'rb') as f:\n",
    "            kwargs = pkl.load(f)\n",
    "    except:\n",
    "        with open(os.path.join(log_path, 'train_params.yaml'), 'r') as f:\n",
    "            kwargs = yaml.safe_load(f)\n",
    "\n",
    "    from repr_control.envs.models.articulate_model_fh import dynamics, evaluate_initial_states, terminal_constraints\n",
    "    import copy\n",
    "    actor = DeterministicActor(12, 2, kwargs['hidden_dim'], kwargs['hidden_depth'])\n",
    "    actor.load_state_dict(torch.load(log_path + \"/actor_after_supervised.pth\"))\n",
    "\n",
    "    init_state = evaluate_initial_states(15).float()\n",
    "    obs = copy.deepcopy(init_state)\n",
    "    for i in range(kwargs['horizon']):\n",
    "        action = actor(torch.hstack([obs, init_state]))\n",
    "        # noise = 0.1 * torch.randn_like(action)\n",
    "        # action = torch.clamp(action + noise, min=-1, max=1)\n",
    "        obs = dynamics(obs, action)\n",
    "        # rewards += self.rewards(obs, action)\n",
    "    terminal_constraint = terminal_constraints(obs)\n",
    "    print(torch.max(terminal_constraint, dim=0))"
   ]
  }
 ],
 "metadata": {
  "kernelspec": {
   "display_name": "haitong_botorch",
   "language": "python",
   "name": "python3"
  },
  "language_info": {
   "name": "python",
   "version": "3.9.18"
  }
 },
 "nbformat": 4,
 "nbformat_minor": 2
}
