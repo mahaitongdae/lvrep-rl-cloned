{
 "cells": [
  {
   "cell_type": "code",
   "id": "initial_id",
   "metadata": {
    "collapsed": true,
    "ExecuteTime": {
     "end_time": "2024-09-05T22:37:32.650572Z",
     "start_time": "2024-09-05T22:37:32.645068Z"
    }
   },
   "source": [
    "from eval import get_controller\n",
    "import os\n",
    "import pickle as pkl\n",
    "import yaml\n",
    "from repr_control.agent.sac.sac_agent import SACAgent\n",
    "import torch\n",
    "import numpy as np\n",
    "import gymnasium"
   ],
   "outputs": [],
   "execution_count": 24
  },
  {
   "metadata": {
    "ExecuteTime": {
     "end_time": "2024-09-05T22:37:35.262565Z",
     "start_time": "2024-09-05T22:37:35.258569Z"
    }
   },
   "cell_type": "code",
   "source": "log_path = '/home/haitong/PycharmProjects/repr_learning/repr_control/repr_control/examples/HalfCheetah-v4/seed_0_2024-09-04-23-14-26'",
   "id": "22f4e8c40a840e1e",
   "outputs": [],
   "execution_count": 25
  },
  {
   "metadata": {
    "ExecuteTime": {
     "end_time": "2024-09-05T22:39:38.326429Z",
     "start_time": "2024-09-05T22:39:38.313067Z"
    }
   },
   "cell_type": "code",
   "source": [
    "def collect_data(log_path):\n",
    "    try:\n",
    "        with open(os.path.join(os.path.dirname(log_path), 'train_params.pkl'), 'rb') as f:\n",
    "            kwargs = pkl.load(f)\n",
    "    except:\n",
    "        with open(os.path.join(os.path.dirname(log_path), 'train_params.yaml'), 'r') as f:\n",
    "            kwargs = yaml.safe_load(f)\n",
    "    env =gymnasium.make(kwargs['env'])\n",
    "    agent =SACAgent(**kwargs)\n",
    "    agent.actor.load_state_dict(torch.load(log_path))\n",
    "    states = []\n",
    "    actions = []\n",
    "    next_states = []\n",
    "    dones = []\n",
    "    \n",
    "    for e in range(40):\n",
    "        obs, _ = env.reset(seed=kwargs['seed'] + e)\n",
    "        done = False\n",
    "        env_steps = 0\n",
    "        while not done:\n",
    "            states.append(obs)\n",
    "            action = agent.select_action(obs)\n",
    "            actions.append(action)\n",
    "            obs, reward, truncated, terminated, _ = env.step(action)\n",
    "            next_states.append(obs)\n",
    "            env_steps += 1\n",
    "            done = terminated or truncated\n",
    "            dones.append(done)\n",
    "    states = np.array(states)\n",
    "    actions = np.array(actions)\n",
    "    next_states = np.array(next_states)\n",
    "    dones = np.array(dones)\n",
    "    dataset_name = log_path.split('/')[-1].split('.')[0]\n",
    "    np.savez(dataset_name, states=states, actions=actions, next_states=next_states, dones=dones)\n"
   ],
   "id": "16994f2f78a9afce",
   "outputs": [],
   "execution_count": 29
  },
  {
   "metadata": {
    "ExecuteTime": {
     "end_time": "2024-09-05T22:41:05.533138Z",
     "start_time": "2024-09-05T22:39:40.086984Z"
    }
   },
   "cell_type": "code",
   "source": [
    "for file in os.listdir(log_path):\n",
    "    if file.startswith('actor') and 'last' not in file:\n",
    "        collect_data(os.path.join(log_path, file))"
   ],
   "id": "2cd09c759e7fc684",
   "outputs": [],
   "execution_count": 30
  }
 ],
 "metadata": {
  "kernelspec": {
   "display_name": "Python 3",
   "language": "python",
   "name": "python3"
  },
  "language_info": {
   "codemirror_mode": {
    "name": "ipython",
    "version": 2
   },
   "file_extension": ".py",
   "mimetype": "text/x-python",
   "name": "python",
   "nbconvert_exporter": "python",
   "pygments_lexer": "ipython2",
   "version": "2.7.6"
  }
 },
 "nbformat": 4,
 "nbformat_minor": 5
}
