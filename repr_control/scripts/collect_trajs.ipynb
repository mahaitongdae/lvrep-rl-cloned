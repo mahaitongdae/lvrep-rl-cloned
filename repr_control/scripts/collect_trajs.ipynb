{
 "cells": [
  {
   "cell_type": "code",
   "id": "initial_id",
   "metadata": {
    "collapsed": true,
    "ExecuteTime": {
     "end_time": "2024-09-12T20:11:05.439818Z",
     "start_time": "2024-09-12T20:11:04.600811Z"
    }
   },
   "source": [
    "from eval import get_controller\n",
    "import os\n",
    "import pickle as pkl\n",
    "import yaml\n",
    "from repr_control.agent.sac.sac_agent import SACAgent\n",
    "import torch\n",
    "import numpy as np\n",
    "import gymnasium"
   ],
   "outputs": [],
   "execution_count": 1
  },
  {
   "metadata": {
    "ExecuteTime": {
     "end_time": "2024-09-12T20:11:12.928857Z",
     "start_time": "2024-09-12T20:11:12.927060Z"
    }
   },
   "cell_type": "code",
   "source": "log_path = '/home/haitong/PycharmProjects/repr_learning/repr_control/repr_control/log/sac/Ant-v4/seed_0_2024-09-08-13-23-37'",
   "id": "22f4e8c40a840e1e",
   "outputs": [],
   "execution_count": 2
  },
  {
   "metadata": {
    "ExecuteTime": {
     "end_time": "2024-09-08T20:02:11.573489Z",
     "start_time": "2024-09-08T20:02:11.562752Z"
    }
   },
   "cell_type": "code",
   "source": [
    "def collect_data(log_path):\n",
    "    try:\n",
    "        with open(os.path.join(os.path.dirname(log_path), 'train_params.pkl'), 'rb') as f:\n",
    "            kwargs = pkl.load(f)\n",
    "    except:\n",
    "        with open(os.path.join(os.path.dirname(log_path), 'train_params.yaml'), 'r') as f:\n",
    "            kwargs = yaml.safe_load(f)\n",
    "    env =gymnasium.make(kwargs['env'])\n",
    "    agent =SACAgent(**kwargs)\n",
    "    agent.actor.load_state_dict(torch.load(log_path))\n",
    "    states = []\n",
    "    actions = []\n",
    "    next_states = []\n",
    "    dones = []\n",
    "    \n",
    "    for e in range(40):\n",
    "        obs, _ = env.reset(seed=kwargs['seed'] + e)\n",
    "        done = False\n",
    "        env_steps = 0\n",
    "        while not done:\n",
    "            states.append(obs)\n",
    "            action = agent.select_action(obs)\n",
    "            actions.append(action)\n",
    "            obs, reward, truncated, terminated, _ = env.step(action)\n",
    "            next_states.append(obs)\n",
    "            env_steps += 1\n",
    "            done = terminated or truncated\n",
    "            dones.append(done)\n",
    "    states = np.array(states)\n",
    "    actions = np.array(actions)\n",
    "    next_states = np.array(next_states)\n",
    "    dones = np.array(dones)\n",
    "    dataset_name = log_path.split('/')[-1].split('.')[0]\n",
    "    np.savez(dataset_name, states=states, actions=actions, next_states=next_states, dones=dones)\n"
   ],
   "id": "16994f2f78a9afce",
   "outputs": [],
   "execution_count": 10
  },
  {
   "metadata": {
    "ExecuteTime": {
     "end_time": "2024-09-12T20:12:54.465491Z",
     "start_time": "2024-09-12T20:12:54.459831Z"
    }
   },
   "cell_type": "code",
   "source": [
    "def collect_data_v2(log_path):\n",
    "    try:\n",
    "        with open(os.path.join(os.path.dirname(log_path), 'train_params.pkl'), 'rb') as f:\n",
    "            kwargs = pkl.load(f)\n",
    "    except:\n",
    "        with open(os.path.join(os.path.dirname(log_path), 'train_params.yaml'), 'r') as f:\n",
    "            kwargs = yaml.safe_load(f)\n",
    "    env =gymnasium.make(kwargs['env'])\n",
    "    agent =SACAgent(**kwargs)\n",
    "    agent.actor.load_state_dict(torch.load(log_path))\n",
    "    states = []\n",
    "    actions = []\n",
    "    next_states = []\n",
    "    dones = []\n",
    "    \n",
    "    for e in range(200):\n",
    "        obs, _ = env.reset(seed=kwargs['seed'] + e)\n",
    "        done = False\n",
    "        env_steps = 0\n",
    "        while not done:\n",
    "            states.append(obs)\n",
    "            action = agent.select_action(obs)\n",
    "            actions.append(action)\n",
    "            obs, reward, truncated, terminated, _ = env.step(action)\n",
    "            next_states.append(obs)\n",
    "            env_steps += 1\n",
    "            done = terminated or truncated\n",
    "            dones.append(done)\n",
    "    states = np.array(states)\n",
    "    actions = np.array(actions)\n",
    "    next_states = np.array(next_states)\n",
    "    dones = np.array(dones)\n",
    "    dataset_name = 'big_' + log_path.split('/')[-1].split('.')[0]\n",
    "    np.savez(dataset_name, states=states, actions=actions, next_states=next_states, dones=dones)\n"
   ],
   "id": "570966f115794293",
   "outputs": [],
   "execution_count": 4
  },
  {
   "metadata": {
    "ExecuteTime": {
     "end_time": "2024-09-12T20:30:34.549184Z",
     "start_time": "2024-09-12T20:30:34.543501Z"
    }
   },
   "cell_type": "code",
   "source": "policy_dir = '/home/haitong/PycharmProjects/repr_learning/repr_control/repr_control/log/sac/HalfCheetah-v4/seed_0_2024-09-04-16-56-20/actor_last.pth'",
   "id": "1f703c1d2c4bede",
   "outputs": [],
   "execution_count": 8
  },
  {
   "metadata": {
    "ExecuteTime": {
     "end_time": "2024-09-12T20:34:16.814901Z",
     "start_time": "2024-09-12T20:33:01.625716Z"
    }
   },
   "cell_type": "code",
   "source": [
    "# for file in os.listdir(log_path):\n",
    "#     if file.startswith('actor') and 'last' not in file:\n",
    "collect_data_v2(policy_dir)"
   ],
   "id": "2cd09c759e7fc684",
   "outputs": [],
   "execution_count": 10
  }
 ],
 "metadata": {
  "kernelspec": {
   "display_name": "Python 3",
   "language": "python",
   "name": "python3"
  },
  "language_info": {
   "codemirror_mode": {
    "name": "ipython",
    "version": 2
   },
   "file_extension": ".py",
   "mimetype": "text/x-python",
   "name": "python",
   "nbconvert_exporter": "python",
   "pygments_lexer": "ipython2",
   "version": "2.7.6"
  }
 },
 "nbformat": 4,
 "nbformat_minor": 5
}
