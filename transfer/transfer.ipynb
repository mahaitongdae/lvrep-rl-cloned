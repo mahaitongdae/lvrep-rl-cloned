{
 "cells": [
  {
   "cell_type": "code",
   "execution_count": 1,
   "metadata": {
    "collapsed": true
   },
   "outputs": [],
   "source": [
    "import torch\n",
    "import gymnasium    \n",
    "import numpy as np\n",
    "from differentiable_representation import NystromFeatureExtractor"
   ]
  },
  {
   "cell_type": "code",
   "execution_count": 2,
   "metadata": {},
   "outputs": [],
   "source": [
    "env = gymnasium.make('Pendulum-v1')\n",
    "feature_extractor = NystromFeatureExtractor(env)"
   ]
  },
  {
   "cell_type": "code",
   "execution_count": null,
   "metadata": {},
   "outputs": [],
   "source": []
  },
  {
   "cell_type": "code",
   "execution_count": 3,
   "metadata": {
    "collapsed": false
   },
   "outputs": [],
   "source": [
    "def pendulum_3d(obs, action, g=10.0, m=1., l=1., max_a=2., max_speed=8., dt=0.05):\n",
    "    th = torch.atan2(obs[:, 1], obs[:, 0])  # 1 is sin, 0 is cosine\n",
    "    thdot = obs[:, 2]\n",
    "    action = torch.reshape(action, (action.shape[0],))\n",
    "    u = torch.clip(action, -max_a, max_a)\n",
    "    newthdot = thdot + (3. * g / (2 * l) * torch.sin(th) + 3.0 / (m * l ** 2) * u) * dt\n",
    "    newthdot = torch.clip(newthdot, -max_speed, max_speed)\n",
    "    newth = th + newthdot * dt\n",
    "    new_states = torch.empty((obs.shape[0], 3))\n",
    "    new_states[:, 0] = torch.cos(newth)\n",
    "    new_states[:, 1] = torch.sin(newth)\n",
    "    new_states[:, 2] = newthdot\n",
    "    return new_states\n",
    "feature_extractor.set_dynamics(pendulum_3d)"
   ]
  },
  {
   "cell_type": "code",
   "execution_count": 4,
   "metadata": {},
   "outputs": [],
   "source": [
    "env = gymnasium.make('Pendulum-v1')\n",
    "feature_extractor = NystromFeatureExtractor(env)\n",
    "feature_extractor.set_dynamics(pendulum_3d)\n",
    "sprime, fsa = feature_extractor.random_sample_sprime_fsa()"
   ]
  },
  {
   "cell_type": "code",
   "execution_count": 6,
   "outputs": [],
   "source": [],
   "metadata": {
    "collapsed": false
   }
  },
  {
   "cell_type": "code",
   "execution_count": 12,
   "metadata": {},
   "outputs": [
    {
     "data": {
      "text/plain": "False"
     },
     "execution_count": 12,
     "metadata": {},
     "output_type": "execute_result"
    }
   ],
   "source": [
    "K1 = feature_extractor.get_kernel_matrix_asymmetric(sprime, fsa)\n",
    "K2 = feature_extractor.kernel_matrix(torch.from_numpy(sprime), torch.from_numpy(fsa))\n",
    "torch.equal(torch.from_numpy(K1), K2)"
   ]
  },
  {
   "cell_type": "code",
   "execution_count": 30,
   "outputs": [
    {
     "data": {
      "text/plain": "True"
     },
     "execution_count": 30,
     "metadata": {},
     "output_type": "execute_result"
    }
   ],
   "source": [
    "m = sprime.shape[0]\n",
    "n = fsa.shape[0]\n",
    "dx1 = np.empty((m, n, 3))\n",
    "for i in np.arange(m):\n",
    "    for j in np.arange(n):\n",
    "        dx1[i, j] = sprime[i, :] - fsa[j, :]\n",
    "dx2 = torch.from_numpy(sprime).unsqueeze(1) - torch.from_numpy(fsa).unsqueeze(0)\n",
    "torch.equal(torch.from_numpy(dx1), dx2)"
   ],
   "metadata": {
    "collapsed": false
   }
  },
  {
   "cell_type": "code",
   "execution_count": 29,
   "outputs": [
    {
     "data": {
      "text/plain": "True"
     },
     "execution_count": 29,
     "metadata": {},
     "output_type": "execute_result"
    }
   ],
   "source": [
    "dx2 = np.expand_dims(sprime, axis=1) - np.expand_dims(fsa, axis=0)\n",
    "np.all(np.equal(dx1, dx2))"
   ],
   "metadata": {
    "collapsed": false
   }
  },
  {
   "cell_type": "code",
   "execution_count": 20,
   "outputs": [
    {
     "data": {
      "text/plain": "torch.Size([1, 512, 3])"
     },
     "execution_count": 20,
     "metadata": {},
     "output_type": "execute_result"
    }
   ],
   "source": [
    "torch.from_numpy(fsa).unsqueeze(0).size()"
   ],
   "metadata": {
    "collapsed": false
   }
  },
  {
   "cell_type": "markdown",
   "metadata": {},
   "source": [
    "### Get nystrom features by SVD for simulator"
   ]
  },
  {
   "cell_type": "code",
   "execution_count": 11,
   "metadata": {},
   "outputs": [
    {
     "data": {
      "text/plain": "False"
     },
     "execution_count": 11,
     "metadata": {},
     "output_type": "execute_result"
    }
   ],
   "source": []
  }
 ],
 "metadata": {
  "kernelspec": {
   "display_name": "Python 3",
   "language": "python",
   "name": "python3"
  },
  "language_info": {
   "codemirror_mode": {
    "name": "ipython",
    "version": 3
   },
   "file_extension": ".py",
   "mimetype": "text/x-python",
   "name": "python",
   "nbconvert_exporter": "python",
   "pygments_lexer": "ipython3",
   "version": "3.8.16"
  }
 },
 "nbformat": 4,
 "nbformat_minor": 0
}
