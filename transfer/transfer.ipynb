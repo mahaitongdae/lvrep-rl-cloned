{
 "cells": [
  {
   "cell_type": "code",
   "execution_count": 1,
   "metadata": {
    "collapsed": true
   },
   "outputs": [],
   "source": [
    "import torch\n",
    "import gymnasium    \n",
    "import numpy as np\n",
    "from differentiable_representation import NystromFeatureExtractor\n",
    "from differentiable_dynamics import Pendulum3D"
   ]
  },
  {
   "cell_type": "code",
   "execution_count": 52,
   "outputs": [],
   "source": [
    "import pandas as pd\n",
    "import seaborn as sns\n",
    "import matplotlib.pyplot as plt"
   ],
   "metadata": {
    "collapsed": false
   }
  },
  {
   "cell_type": "code",
   "execution_count": 2,
   "metadata": {},
   "outputs": [],
   "source": [
    "env = gymnasium.make('Pendulum-v1')\n",
    "feature_extractor = NystromFeatureExtractor(env)"
   ]
  },
  {
   "cell_type": "code",
   "execution_count": null,
   "metadata": {},
   "outputs": [],
   "source": []
  },
  {
   "cell_type": "code",
   "execution_count": 4,
   "metadata": {
    "collapsed": false
   },
   "outputs": [],
   "source": [
    "pendulum_3d = Pendulum3D()"
   ]
  },
  {
   "cell_type": "code",
   "execution_count": 4,
   "metadata": {},
   "outputs": [],
   "source": [
    "env = gymnasium.make('Pendulum-v1')\n",
    "feature_extractor = NystromFeatureExtractor(env)\n",
    "feature_extractor.set_dynamics(pendulum_3d)\n",
    "sprime, fsa = feature_extractor.random_sample_sprime_fsa()"
   ]
  },
  {
   "cell_type": "markdown",
   "source": [
    "### Check fast calculation of kernel matrix\n",
    "Should only work for symmetric kernel."
   ],
   "metadata": {
    "collapsed": false
   }
  },
  {
   "cell_type": "code",
   "execution_count": 9,
   "metadata": {},
   "outputs": [
    {
     "data": {
      "text/plain": "True"
     },
     "execution_count": 9,
     "metadata": {},
     "output_type": "execute_result"
    }
   ],
   "source": [
    "K1 = feature_extractor.get_kernel_matrix_asymmetric(sprime, fsa)\n",
    "K2 = feature_extractor.kernel_matrix_torch(sprime, fsa)\n",
    "torch.equal(torch.from_numpy(K1).float(), K2)"
   ]
  },
  {
   "cell_type": "code",
   "execution_count": 7,
   "outputs": [
    {
     "data": {
      "text/plain": "True"
     },
     "execution_count": 7,
     "metadata": {},
     "output_type": "execute_result"
    }
   ],
   "source": [
    "m = sprime.shape[0]\n",
    "n = fsa.shape[0]\n",
    "dx1 = np.empty((m, n, 3))\n",
    "for i in np.arange(m):\n",
    "    for j in np.arange(n):\n",
    "        dx1[i, j] = sprime[i, :] - fsa[j, :]\n",
    "dx2 = torch.from_numpy(sprime).unsqueeze(1) - torch.from_numpy(fsa).unsqueeze(0) # k(s', s)\n",
    "# dx = x1.unsqueeze(1) - x2.unsqueeze(0) # will return the kernel matrix of k(x1, x2) with symmetric kernel.\n",
    "torch.equal(torch.from_numpy(dx1), dx2)"
   ],
   "metadata": {
    "collapsed": false
   }
  },
  {
   "cell_type": "code",
   "execution_count": 29,
   "outputs": [
    {
     "data": {
      "text/plain": "True"
     },
     "execution_count": 29,
     "metadata": {},
     "output_type": "execute_result"
    }
   ],
   "source": [
    "dx2 = np.expand_dims(sprime, axis=1) - np.expand_dims(fsa, axis=0)\n",
    "np.all(np.equal(dx1, dx2))"
   ],
   "metadata": {
    "collapsed": false
   }
  },
  {
   "cell_type": "code",
   "execution_count": 20,
   "outputs": [
    {
     "data": {
      "text/plain": "torch.Size([1, 512, 3])"
     },
     "execution_count": 20,
     "metadata": {},
     "output_type": "execute_result"
    }
   ],
   "source": [
    "torch.from_numpy(fsa).unsqueeze(0).size()"
   ],
   "metadata": {
    "collapsed": false
   }
  },
  {
   "cell_type": "markdown",
   "metadata": {},
   "source": [
    "### Get nystrom features by SVD for simulator"
   ]
  },
  {
   "cell_type": "code",
   "execution_count": 55,
   "outputs": [],
   "source": [
    "env = gymnasium.make('Pendulum-v1')\n",
    "obs = np.vstack([env.observation_space.sample() for i in range(256)])\n",
    "action = np.vstack([env.action_space.sample() for i in range(256)])\n",
    "pendulum_3d = Pendulum3D()\n",
    "pendulum_3d_2 = Pendulum3D(g=12.0, m=2.0, l=2.0)\n",
    "fsa1 = pendulum_3d.rollout(torch.from_numpy(obs), torch.from_numpy(action))\n",
    "fsa2 = pendulum_3d_2.rollout(torch.from_numpy(obs), torch.from_numpy(action))"
   ],
   "metadata": {
    "collapsed": false
   }
  },
  {
   "cell_type": "code",
   "execution_count": 56,
   "metadata": {},
   "outputs": [],
   "source": [
    "# env = gymnasium.make('Pendulum-v1')\n",
    "with torch.no_grad(): # for the ground truth\n",
    "    feature_extractor = NystromFeatureExtractor(env)\n",
    "    feature_extractor.set_dynamics(pendulum_3d)\n",
    "    feature_extractor.sample_and_decompose()\n",
    "    phi = feature_extractor.get_nystrom_feature(fsa1)"
   ]
  },
  {
   "cell_type": "code",
   "execution_count": 57,
   "outputs": [],
   "source": [
    "feature_extractor2 = NystromFeatureExtractor(env)\n",
    "feature_extractor2.set_dynamics(pendulum_3d_2)\n",
    "feature_extractor2.sample_and_decompose()\n",
    "phi2 = feature_extractor.get_nystrom_feature(fsa2)"
   ],
   "metadata": {
    "collapsed": false
   }
  },
  {
   "cell_type": "code",
   "execution_count": 7,
   "outputs": [
    {
     "data": {
      "text/plain": "False"
     },
     "execution_count": 7,
     "metadata": {},
     "output_type": "execute_result"
    }
   ],
   "source": [
    "torch.equal(phi, phi2)"
   ],
   "metadata": {
    "collapsed": false
   }
  },
  {
   "cell_type": "code",
   "execution_count": 58,
   "outputs": [],
   "source": [
    "torch.autograd.set_detect_anomaly(True)\n",
    "optimizer = torch.optim.Adam([feature_extractor2.rollout_dynamics.g,\n",
    "                              feature_extractor2.rollout_dynamics.l,\n",
    "                              feature_extractor2.rollout_dynamics.m])\n",
    "loss = torch.nn.MSELoss()\n",
    "data = dict(iter = [], g=[], l=[], m=[])\n",
    "for i in range(1000):\n",
    "    fsa2 = pendulum_3d_2.rollout(torch.from_numpy(obs), torch.from_numpy(action))\n",
    "    phi2 = feature_extractor.get_nystrom_feature(fsa2)\n",
    "    supervised_loss = loss(phi.detach_(), phi2)\n",
    "    optimizer.zero_grad()\n",
    "    supervised_loss.backward()\n",
    "    optimizer.step()\n",
    "    data['iter'].append(i)\n",
    "    data['g'].append(feature_extractor2.rollout_dynamics.g.detach().item())\n",
    "    data['l'].append(feature_extractor2.rollout_dynamics.l.detach().item())\n",
    "    data['m'].append(feature_extractor2.rollout_dynamics.m.detach().item())"
   ],
   "metadata": {
    "collapsed": false
   }
  },
  {
   "cell_type": "code",
   "execution_count": 61,
   "outputs": [],
   "source": [
    "pendulum_3d_sysid = Pendulum3D(g=12.0, m=2.0, l=2.0)\n",
    "optimizer_sysid = torch.optim.Adam([pendulum_3d_sysid.g,\n",
    "                                    pendulum_3d_sysid.l,\n",
    "                                    pendulum_3d_sysid.m])\n",
    "data_sysid = dict(iter = [], g=[], l=[], m=[])\n",
    "for i in range(1000):\n",
    "    fsa2 = pendulum_3d_sysid.rollout(torch.from_numpy(obs), torch.from_numpy(action))\n",
    "    sysid_loss = loss(fsa2, fsa1.detach_())\n",
    "    optimizer_sysid.zero_grad()\n",
    "    sysid_loss.backward()\n",
    "    optimizer_sysid.step()\n",
    "    data_sysid['iter'].append(i)\n",
    "    data_sysid['g'].append(pendulum_3d_sysid.g.detach().item())\n",
    "    data_sysid['l'].append(pendulum_3d_sysid.l.detach().item())\n",
    "    data_sysid['m'].append(pendulum_3d_sysid.m.detach().item())"
   ],
   "metadata": {
    "collapsed": false
   }
  },
  {
   "cell_type": "code",
   "execution_count": 62,
   "outputs": [
    {
     "data": {
      "text/plain": "<AxesSubplot: xlabel='iter', ylabel='l'>"
     },
     "execution_count": 62,
     "metadata": {},
     "output_type": "execute_result"
    },
    {
     "data": {
      "text/plain": "<Figure size 1000x1000 with 1 Axes>",
      "image/png": "[encoded data removed]"
     },
     "metadata": {},
     "output_type": "display_data"
    }
   ],
   "source": [
    "df1 = pd.DataFrame.from_dict(data)\n",
    "df1['algo'] = 'features'\n",
    "df2 = pd.DataFrame.from_dict(data_sysid)\n",
    "df2['algo'] = 'sysid'\n",
    "df = pd.concat([df1, df2], ignore_index=True)\n",
    "plt.figure(figsize=[10, 10])\n",
    "sns.lineplot(df, x='iter', y='l', hue='algo')"
   ],
   "metadata": {
    "collapsed": false
   }
  }
 ],
 "metadata": {
  "kernelspec": {
   "display_name": "Python 3",
   "language": "python",
   "name": "python3"
  },
  "language_info": {
   "codemirror_mode": {
    "name": "ipython",
    "version": 3
   },
   "file_extension": ".py",
   "mimetype": "text/x-python",
   "name": "python",
   "nbconvert_exporter": "python",
   "pygments_lexer": "ipython3",
   "version": "3.8.16"
  }
 },
 "nbformat": 4,
 "nbformat_minor": 0
}
